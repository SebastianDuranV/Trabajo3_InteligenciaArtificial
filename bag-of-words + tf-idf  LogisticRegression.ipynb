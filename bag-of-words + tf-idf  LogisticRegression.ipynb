{
 "cells": [
  {
   "cell_type": "markdown",
   "metadata": {},
   "source": [
    "# bag-of-words + tf-idf  LogisticRegression"
   ]
  },
  {
   "cell_type": "code",
   "execution_count": 21,
   "metadata": {},
   "outputs": [],
   "source": [
    "import pandas as pd\n",
    "import numpy as np\n",
    "import matplotlib as plt\n",
    "df = pd.read_csv('cnnchile_7000.csv')\n",
    "df.head()\n",
    "df = df.drop(['country','media_outlet','url','date'], 1)\n",
    "df1 = pd.DataFrame({'full text':df['title']+\" \"+df['text'],'category':df[\"category\"]})"
   ]
  },
  {
   "cell_type": "code",
   "execution_count": 22,
   "metadata": {},
   "outputs": [],
   "source": [
    "import spacy\n",
    "\n",
    "nlp = spacy.load('es_core_news_sm')\n",
    "\n",
    "from sklearn.feature_extraction.text import CountVectorizer\n",
    "\n",
    "def feature_extraction(text):\n",
    "    \n",
    "    mytokens = nlp(text)\n",
    "\n",
    "    #Guardamos las palabras como características si corresponden a ciertas categorias gramaticales\n",
    "    mytokens = [ word for word in mytokens if word.pos_ in [\"NOUN\", \"ADJ\", \"VERB\"] ]\n",
    "    \n",
    "    #Transformamos las palabras en minusculas\n",
    "    mytokens = [ word.lemma_.lower().strip() for word in mytokens ]\n",
    "    \n",
    "    # return preprocessed list of tokens\n",
    "    return mytokens"
   ]
  },
  {
   "cell_type": "markdown",
   "metadata": {},
   "source": [
    "## bag-of-words + tf-idf\n",
    "\n",
    "- mejorar el modelo bag-of-words tomando en cuenta el nivel pragmático del lenguaje --> *\"Lo que es poco frecuente, es más importante/relevante\"*\n",
    "\n",
    "La desición de usar en todas las pruebas es para darle más importancia a las palabras que se usan en un contexto en especifico, poco frecuentes. Por ejemplo cuando se señale a un país extrangero, o salga el nombre de algun deporte, etc.. pueda guiarse por medios de estas palabras de la decición final."
   ]
  },
  {
   "cell_type": "code",
   "execution_count": 23,
   "metadata": {},
   "outputs": [],
   "source": [
    "from sklearn.feature_extraction.text import TfidfVectorizer\n",
    "\n",
    "bow_vector = TfidfVectorizer(tokenizer = feature_extraction, min_df=0., max_df=1.0)"
   ]
  },
  {
   "cell_type": "code",
   "execution_count": 24,
   "metadata": {},
   "outputs": [
    {
     "data": {
      "text/plain": [
       "<7000x24927 sparse matrix of type '<class 'numpy.float64'>'\n",
       "\twith 423003 stored elements in Compressed Sparse Row format>"
      ]
     },
     "execution_count": 24,
     "metadata": {},
     "output_type": "execute_result"
    }
   ],
   "source": [
    "from pandas import DataFrame\n",
    "from sklearn.feature_extraction.text import TfidfVectorizer\n",
    "\n",
    "bow_vector.fit_transform(df1[\"full text\"].values.astype('U'))"
   ]
  },
  {
   "cell_type": "code",
   "execution_count": 25,
   "metadata": {},
   "outputs": [],
   "source": [
    "from sklearn.model_selection import train_test_split\n",
    "from sklearn.preprocessing import LabelEncoder\n",
    "\n",
    "X = df1['full text'].astype('U') \n",
    "ylabels = df1['category'].astype('U')\n",
    "lb = LabelEncoder()\n",
    "ylabels_encoded = lb.fit_transform(ylabels)\n",
    "X_train, X_test, y_train, y_test = train_test_split(X, ylabels_encoded, test_size=0.5)"
   ]
  },
  {
   "cell_type": "markdown",
   "metadata": {},
   "source": [
    "## Logistic Regression\n",
    "\n",
    "\n",
    "###  Algoritmo a utilizar en el problema de optimización.\n",
    "####  Solucionador {'newton-cg', 'lbfgs', 'liblinear', 'sag', 'saga'}, predeterminado = 'lbfgs'\n",
    "1. Para conjuntos de datos pequeños, 'liblinear' es una buena opción, mientras que 'sag' y 'saga' son más rápidos para los grandes.\n",
    "    \n",
    "1. Para problemas multiclase, solo 'newton-cg', 'sag', 'saga' y 'lbfgs' manejan pérdida multinomial; \n",
    "\n",
    "1. 'liblinear' se limita a esquemas uno versus resto.\n",
    "\n",
    "1. 'newton-cg', 'lbfgs', 'sag' y 'saga' manejan L2 o sin penalización\n",
    "\n",
    "1. 'liblinear' y 'saga' también manejan la penalización L1\n",
    "\n",
    "1. 'saga' también admite la penalización de 'elasticnet'\n",
    "\n",
    "1. 'liblinear' no admite la configuración penalty='none'\n",
    "\n",
    "\n",
    "- newton-cg : gradient_descent\n",
    "- lbfgs : L-BFGS y L-BFGS-B son dos métodos de optimización quasi-Newton de funciones con un gran número de parámetros o de una gran complejidad. Se trata de un método que hace un uso limitado de la memoria (usa mucha menos memoria que otros algoritmos para el mismo problema); L-BFGS viene de BFGS de memoria limitada. Permite obtener el mínimo de una función. Únicamente necesita la función y su gradiente, pero no la matriz Hessiana.\n",
    "- sag saga : Stochastic gradient descent\n",
    "- liblinear : LIBLINEAR es una biblioteca de código abierto para clasificación lineal a gran escala. Soporta regresión logística y máquinas vectoriales de soporte lineal.\n",
    "\n",
    "\n",
    "### penalización \n",
    "#### {'l1', 'l2', 'elasticnet', 'none'}, predeterminado = 'l2'\n",
    "- Se utiliza para especificar la norma utilizada en la penalización. Los solucionadores 'newton-cg', 'sag' y 'lbfgs' solo admiten penalizaciones 12. 'elasticnet' solo es compatible con el solucionador de 'saga'. Si es 'none' (no compatible con el solucionador liblinear), no se aplica la regularización.\n",
    "\n",
    "\n",
    "- l1:Se mide como la media del valor absoluto de los coeficientes del modelo.\n",
    "    Lasso nos va a servir de ayuda cuando sospechemos que varios de los atributos de entrada (features) sean irrelevantes. Al usar Lasso, estamos fomentando que la solución sea poco densa.\n",
    "    \n",
    "- l2:Mide como la media del cuadrado de los coeficientes del modelo.\n",
    "    Ridge nos va a servir de ayuda cuando sospechemos que varios de los atributos de entrada (features) estén correlados entre ellos. Ridge hace que los coeficientes acaben siendo más pequeños. Esta disminución de los coeficientes minimiza el efecto de la correlación entre los atributos de entrada y hace que el modelo generalice mejor. Ridge funciona mejor cuando la mayoría de los atributos son relevantes.\n",
    "\n",
    "- Elasticnet:ElasticNet combina las regularizaciones L1 y L2. Con el parámetro r podemos indicar que importancia relativa tienen L1 y L2 respectivamente.\n",
    "    Usaremos ElasticNet cuando tengamos un gran número de atributos. Algunos de ellos serán irrelevantes y otros estarán correlados entre ellos.\n",
    "\n",
    "\n",
    "\n",
    "### n_jobs int, \n",
    "#### predeterminado = Ninguno\n",
    "- Número de núcleos de CPU utilizados al paralelizar clases si multi_class = 'ovr' ”. Este parámetro se ignora cuando solverse establece en 'liblinear' independientemente de si se especifica o no 'multi_class'. Nonesignifica 1 a menos que esté en un joblib.parallel_backend contexto. -1significa usar todos los procesadores. Consulte el glosario para obtener más detalles."
   ]
  },
  {
   "cell_type": "markdown",
   "metadata": {},
   "source": [
    "### Parametros a usar:\n",
    "Parametros a usar:\n",
    "Para explorar un poco mas se usa la el stocasti gradient descent (sag) que el gradient descent (newton-cg) ya que este por medios un poco menos costoso a nivel de maquina, cuenta con un parecido una Accuracy 0.7697. Ademas ocupando la penalización que viene por defecto, ya que este el que admite tanto sag como newton-cg, ocupando al maximo el procesador en el numero de trabajos."
   ]
  },
  {
   "cell_type": "code",
   "execution_count": 37,
   "metadata": {},
   "outputs": [
    {
     "name": "stdout",
     "output_type": "stream",
     "text": [
      "Accuracy: 0.7697142857142857\n"
     ]
    }
   ],
   "source": [
    "from sklearn.pipeline import Pipeline\n",
    "from sklearn.linear_model import LogisticRegression\n",
    "\n",
    "nb = LogisticRegression(solver='newton-cg',n_jobs=-1)\n",
    "model_nb = Pipeline([('vectorizing', bow_vector),\n",
    "                 ('learning', nb)])\n",
    "# model generation\n",
    "model_nb.fit(X_train.astype('U'), y_train.astype('U'))\n",
    "\n",
    "from sklearn import metrics\n",
    "\n",
    "predicted = model_nb.predict(X_test.values.astype('U'))\n",
    "predicted_proba = model_nb.predict_proba(X_test.values.astype('U'))\n",
    "\n",
    "print(\"Accuracy:\",metrics.accuracy_score(y_test.astype('U'), predicted))"
   ]
  },
  {
   "cell_type": "code",
   "execution_count": 38,
   "metadata": {},
   "outputs": [
    {
     "data": {
      "text/plain": [
       "Pipeline(steps=[('vectorizing',\n",
       "                 TfidfVectorizer(min_df=0.0,\n",
       "                                 tokenizer=<function feature_extraction at 0x000001BC9EFC9C10>)),\n",
       "                ('learning', LogisticRegression(n_jobs=-1, solver='sag'))])"
      ]
     },
     "execution_count": 38,
     "metadata": {},
     "output_type": "execute_result"
    }
   ],
   "source": [
    "from sklearn.pipeline import Pipeline\n",
    "from sklearn.linear_model import LogisticRegression\n",
    "\n",
    "nb = LogisticRegression(solver='sag',n_jobs=-1)\n",
    "model_nb = Pipeline([('vectorizing', bow_vector),\n",
    "                 ('learning', nb)])\n",
    "# model generation\n",
    "model_nb.fit(X_train.astype('U'), y_train.astype('U'))"
   ]
  },
  {
   "cell_type": "code",
   "execution_count": 39,
   "metadata": {},
   "outputs": [],
   "source": [
    "from sklearn import metrics\n",
    "\n",
    "predicted = model_nb.predict(X_test.values.astype('U'))\n",
    "predicted_proba = model_nb.predict_proba(X_test.values.astype('U'))"
   ]
  },
  {
   "cell_type": "code",
   "execution_count": 40,
   "metadata": {},
   "outputs": [
    {
     "name": "stdout",
     "output_type": "stream",
     "text": [
      "Accuracy: 0.7697142857142857\n"
     ]
    }
   ],
   "source": [
    "print(\"Accuracy:\",metrics.accuracy_score(y_test.astype('U'), predicted))"
   ]
  },
  {
   "cell_type": "code",
   "execution_count": 41,
   "metadata": {},
   "outputs": [
    {
     "name": "stdout",
     "output_type": "stream",
     "text": [
      "              precision    recall  f1-score   support\n",
      "\n",
      "           0       0.83      0.90      0.86       474\n",
      "           1       0.91      0.87      0.89       497\n",
      "           2       0.81      0.81      0.81       523\n",
      "           3       0.76      0.73      0.75       511\n",
      "           4       0.70      0.74      0.72       505\n",
      "           5       0.72      0.70      0.71       491\n",
      "           6       0.66      0.64      0.65       499\n",
      "\n",
      "    accuracy                           0.77      3500\n",
      "   macro avg       0.77      0.77      0.77      3500\n",
      "weighted avg       0.77      0.77      0.77      3500\n",
      "\n"
     ]
    }
   ],
   "source": [
    "# Matriz de confusión\n",
    "from sklearn.metrics import confusion_matrix\n",
    "from sklearn.metrics import classification_report\n",
    "\n",
    "confusion_matrix = confusion_matrix(y_test.astype('U'), predicted)\n",
    "print(classification_report(y_test.astype('U'), predicted))"
   ]
  },
  {
   "cell_type": "markdown",
   "metadata": {},
   "source": [
    "- pais == 0\n",
    "- deportes == 1\n",
    "- tendencias == 2\n",
    "- tecnologias == 3\n",
    "- cultura == 4\n",
    "- economia == 5\n",
    "- mundo == 6\n",
    "\n",
    "###  De la matriz de confución se puede concluir que:\n",
    "\n",
    "- El modelo sabe distigir con mayor exactitud los deportes y los de la categoría pais.\n",
    "- Le cuesta demaciado distingir uno que sea de la categoría del mundo.\n",
    "- Precenta varios falsas noticias de la categoría de país."
   ]
  },
  {
   "cell_type": "code",
   "execution_count": 42,
   "metadata": {},
   "outputs": [
    {
     "data": {
      "text/plain": [
       "(array([0.5, 1.5, 2.5, 3.5, 4.5, 5.5, 6.5]),\n",
       " <a list of 7 Text major ticklabel objects>)"
      ]
     },
     "execution_count": 42,
     "metadata": {},
     "output_type": "execute_result"
    },
    {
     "data": {
      "image/png": "[encoded data removed]",
      "text/plain": [
       "<Figure size 432x288 with 1 Axes>"
      ]
     },
     "metadata": {
      "needs_background": "light"
     },
     "output_type": "display_data"
    }
   ],
   "source": [
    "import matplotlib.pyplot as plt\n",
    "import seaborn as sns\n",
    "import numpy as np\n",
    "\n",
    "classes = np.unique(y_test)\n",
    "\n",
    "cm = metrics.confusion_matrix(y_test.astype('U'), predicted)\n",
    "fig, ax = plt.subplots()\n",
    "sns.heatmap(cm, annot=True, fmt='d', ax=ax, cmap=plt.cm.Blues, \n",
    "            cbar=False)\n",
    "ax.set(xlabel=\"Pred\", ylabel=\"True\", xticklabels=classes, \n",
    "       yticklabels=classes, title=\"Confusion matrix\")\n",
    "plt.yticks(rotation=0)"
   ]
  },
  {
   "cell_type": "markdown",
   "metadata": {},
   "source": [
    "## Conclusiones generales (esto estara en cada notebook):\n",
    "- El modelo al precentarle una tanto noticas de tipo deportes, este por medio del f1-score, es más fiable ya que el tipo de palabras que se usan en deportes, están más en la vecindad el tipo de palabras que usa.\n",
    "- En el caso de  pais tiene una exhaustividad muy alta por lo que si ve una noticia que es de la categoría país sera verdadero, pero tiene menor precisión en que precice muchas falsas noticias de otras categorías, ya que en esta categoria comparte muchas palabras de otras categorías como de tecnologicas, economia y mundo. Por la razon que si bien las noticias son muy parecidas, y que el factor diferenciador sería el nombre de los lugares, o que se habla del pais pero no necesariamente se deba incluir en esta categoría.\n",
    "- El modelo que tiene un peor rango es del mundo ya que es el que en tematicos(sin considerar los lugares), puede como se dijo en el punto anterior, es el que mas comparte tematicas y palabras con el restro.\n",
    "- El mejor accuary es el que usa el multinomialNB, teniendo la mayor precición, de los modelos.\n",
    "- Siendo el factor más de prejuicio jugando al favor del modelo, ya que este va mejorando las probabilidades que con ciertas caracteristicas de las noticias.\n",
    "- Y el peor modelo que es el k vecinos, debido a que no es muy sencible, al identificar aspectos escenciales que definen la categoria de una noticia."
   ]
  },
  {
   "cell_type": "code",
   "execution_count": null,
   "metadata": {},
   "outputs": [],
   "source": []
  }
 ],
 "metadata": {
  "kernelspec": {
   "display_name": "Python 3",
   "language": "python",
   "name": "python3"
  },
  "language_info": {
   "codemirror_mode": {
    "name": "ipython",
    "version": 3
   },
   "file_extension": ".py",
   "mimetype": "text/x-python",
   "name": "python",
   "nbconvert_exporter": "python",
   "pygments_lexer": "ipython3",
   "version": "3.8.3"
  }
 },
 "nbformat": 4,
 "nbformat_minor": 4
}
