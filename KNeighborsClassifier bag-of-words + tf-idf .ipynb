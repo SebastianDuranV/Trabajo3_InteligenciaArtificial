{
 "cells": [
  {
   "cell_type": "markdown",
   "metadata": {},
   "source": [
    "# KNeighborsClassifier bag-of-words + tf-idf "
   ]
  },
  {
   "cell_type": "code",
   "execution_count": 47,
   "metadata": {},
   "outputs": [],
   "source": [
    "import pandas as pd\n",
    "import numpy as np\n",
    "import matplotlib as plt\n",
    "df = pd.read_csv('cnnchile_7000.csv')\n",
    "df.head()\n",
    "df = df.drop(['country','media_outlet','url','date'], 1)\n",
    "df1 = pd.DataFrame({'full text':df['title']+\" \"+df['text'],'category':df[\"category\"]})"
   ]
  },
  {
   "cell_type": "code",
   "execution_count": 48,
   "metadata": {},
   "outputs": [],
   "source": [
    "import spacy\n",
    "\n",
    "nlp = spacy.load('es_core_news_sm')\n",
    "\n",
    "from sklearn.feature_extraction.text import CountVectorizer\n",
    "\n",
    "def feature_extraction(text):\n",
    "    \n",
    "    mytokens = nlp(text)\n",
    "\n",
    "    #Guardamos las palabras como características si corresponden a ciertas categorias gramaticales\n",
    "    mytokens = [ word for word in mytokens if word.pos_ in [\"NOUN\", \"ADJ\", \"VERB\"] ]\n",
    "    \n",
    "    #Transformamos las palabras en minusculas\n",
    "    mytokens = [ word.lemma_.lower().strip() for word in mytokens ]\n",
    "    \n",
    "    # return preprocessed list of tokens\n",
    "    return mytokens"
   ]
  },
  {
   "cell_type": "markdown",
   "metadata": {},
   "source": [
    "## bag-of-words + tf-idf"
   ]
  },
  {
   "cell_type": "code",
   "execution_count": 49,
   "metadata": {},
   "outputs": [],
   "source": [
    "from sklearn.feature_extraction.text import TfidfVectorizer\n",
    "tfidf_vector = TfidfVectorizer(tokenizer = feature_extraction, min_df=0., max_df=1.0)"
   ]
  },
  {
   "cell_type": "code",
   "execution_count": 50,
   "metadata": {},
   "outputs": [
    {
     "data": {
      "text/plain": [
       "<300x4317 sparse matrix of type '<class 'numpy.float64'>'\n",
       "\twith 17639 stored elements in Compressed Sparse Row format>"
      ]
     },
     "execution_count": 50,
     "metadata": {},
     "output_type": "execute_result"
    }
   ],
   "source": [
    "from pandas import DataFrame\n",
    "from sklearn.feature_extraction.text import TfidfVectorizer\n",
    "\n",
    "tfidf_vector.fit_transform(df1[\"full text\"][0:300].values.astype('U'))"
   ]
  },
  {
   "cell_type": "code",
   "execution_count": 51,
   "metadata": {},
   "outputs": [],
   "source": [
    "from sklearn.model_selection import train_test_split\n",
    "from sklearn.preprocessing import LabelEncoder\n",
    "\n",
    "X = df1['full text'].astype('U') \n",
    "ylabels = df1['category'].astype('U')\n",
    "lb = LabelEncoder()\n",
    "ylabels_encoded = lb.fit_transform(ylabels)\n",
    "X_train, X_test, y_train, y_test = train_test_split(X, ylabels_encoded, test_size=0.5)"
   ]
  },
  {
   "cell_type": "markdown",
   "metadata": {},
   "source": [
    "## KNeighborsClassifier \n",
    "\n",
    "### n_neighbors \n",
    "#### int, predeterminado = 5\n",
    "- Número de vecinos que se utilizarán de forma predeterminada para las kneighborsconsultas.\n",
    "\n",
    "### pesos {'uniforme', 'distancia'} o invocables, predeterminado = 'uniforme'\n",
    "#### función de peso utilizada en la predicción. Valores posibles:\n",
    "\n",
    "- 'uniforme': pesos uniformes. Todos los puntos de cada vecindario se ponderan por igual.\n",
    "\n",
    "- 'distancia': puntos de peso por la inversa de su distancia. en este caso, los vecinos más cercanos de un punto de consulta tendrán una mayor influencia que los vecinos que están más lejos.\n",
    "\n",
    "- [invocable]: una función definida por el usuario que acepta una matriz de distancias y devuelve una matriz de la misma forma que contiene los pesos.\n",
    "\n",
    "\n",
    "\n",
    "\n",
    "\n",
    "### Algoritmo utilizado para calcular los vecinos más cercanos:\n",
    "#### algoritmo {'auto', 'ball_tree', 'kd_tree', 'brute'}, predeterminado = 'auto'\n",
    "\n",
    "- 'ball_tree' usará BallTree\n",
    "\n",
    "- 'kd_tree' usará KDTree\n",
    "\n",
    "- 'brute' utilizará una búsqueda de fuerza bruta.\n",
    "\n",
    "- 'auto' intentará decidir el algoritmo más apropiado según los valores pasados ​​al fitmétodo.\n",
    "\n",
    "\n",
    "\n",
    "\n",
    "### n_jobs \n",
    "#### int, predeterminado = Ninguno\n",
    "- El número de trabajos paralelos que se ejecutarán para la búsqueda de vecinos. Nonesignifica 1 a menos que esté en un joblib.parallel_backendcontexto. -1significa usar todos los procesadores. Consulte el glosario para obtener más detalles. No afecta el fitmétodo"
   ]
  },
  {
   "cell_type": "code",
   "execution_count": 52,
   "metadata": {},
   "outputs": [
    {
     "name": "stdout",
     "output_type": "stream",
     "text": [
      "Accuracy: 0.7497142857142857\n"
     ]
    }
   ],
   "source": [
    "from sklearn import neighbors\n",
    "from sklearn.pipeline import Pipeline\n",
    "\n",
    "n_neighbors = 28\n",
    "\n",
    "knn = neighbors.KNeighborsClassifier(n_neighbors = n_neighbors,\n",
    "                                     weights = 'distance', n_jobs = -1)\n",
    "\n",
    "model_knn = Pipeline([('vectorizing', tfidf_vector),\n",
    "                 ('learning', knn)])\n",
    "\n",
    "# model generation\n",
    "model_knn.fit(X_train, y_train)\n",
    "predicted = model_knn.predict(X_test.astype('U'))\n",
    "predicted_proba = model_knn.predict_proba(X_test.values.astype('U'))\n",
    "print(\"Accuracy:\",model_knn.score(X_test, y_test))"
   ]
  },
  {
   "cell_type": "code",
   "execution_count": 53,
   "metadata": {},
   "outputs": [],
   "source": [
    "from sklearn import metrics\n",
    "\n",
    "predicted = model_knn.predict(X_test.values.astype('U'))\n",
    "predicted_proba = model_knn.predict_proba(X_test.values.astype('U'))"
   ]
  },
  {
   "cell_type": "code",
   "execution_count": 54,
   "metadata": {},
   "outputs": [
    {
     "name": "stdout",
     "output_type": "stream",
     "text": [
      "              precision    recall  f1-score   support\n",
      "\n",
      "           0       0.79      0.90      0.84       511\n",
      "           1       0.81      0.88      0.85       512\n",
      "           2       0.72      0.85      0.78       503\n",
      "           3       0.73      0.70      0.72       488\n",
      "           4       0.70      0.63      0.66       512\n",
      "           5       0.74      0.72      0.73       497\n",
      "           6       0.73      0.54      0.62       477\n",
      "\n",
      "    accuracy                           0.75      3500\n",
      "   macro avg       0.75      0.75      0.74      3500\n",
      "weighted avg       0.75      0.75      0.74      3500\n",
      "\n"
     ]
    }
   ],
   "source": [
    "# Matriz de confusión\n",
    "from sklearn.metrics import confusion_matrix\n",
    "from sklearn.metrics import classification_report\n",
    "\n",
    "confusion_matrix = confusion_matrix(y_test.astype('U'), predicted.astype('U'))\n",
    "print(classification_report(y_test.astype('U'), predicted.astype('U')))"
   ]
  },
  {
   "cell_type": "code",
   "execution_count": 55,
   "metadata": {},
   "outputs": [
    {
     "data": {
      "text/plain": [
       "(array([0.5, 1.5, 2.5, 3.5, 4.5, 5.5, 6.5]),\n",
       " <a list of 7 Text major ticklabel objects>)"
      ]
     },
     "execution_count": 55,
     "metadata": {},
     "output_type": "execute_result"
    },
    {
     "data": {
      "image/png": "[encoded data removed]",
      "text/plain": [
       "<Figure size 432x288 with 1 Axes>"
      ]
     },
     "metadata": {
      "needs_background": "light"
     },
     "output_type": "display_data"
    }
   ],
   "source": [
    "import matplotlib.pyplot as plt\n",
    "import seaborn as sns\n",
    "import numpy as np\n",
    "\n",
    "classes = np.unique(y_test)\n",
    "\n",
    "cm = metrics.confusion_matrix(y_test, predicted)\n",
    "fig, ax = plt.subplots()\n",
    "sns.heatmap(cm, annot=True, fmt='d', ax=ax, cmap=plt.cm.Blues, \n",
    "            cbar=False)\n",
    "ax.set(xlabel=\"Pred\", ylabel=\"True\", xticklabels=classes, \n",
    "       yticklabels=classes, title=\"Confusion matrix\")\n",
    "plt.yticks(rotation=0)"
   ]
  },
  {
   "cell_type": "code",
   "execution_count": null,
   "metadata": {},
   "outputs": [],
   "source": []
  }
 ],
 "metadata": {
  "kernelspec": {
   "display_name": "Python 3",
   "language": "python",
   "name": "python3"
  },
  "language_info": {
   "codemirror_mode": {
    "name": "ipython",
    "version": 3
   },
   "file_extension": ".py",
   "mimetype": "text/x-python",
   "name": "python",
   "nbconvert_exporter": "python",
   "pygments_lexer": "ipython3",
   "version": "3.8.3"
  }
 },
 "nbformat": 4,
 "nbformat_minor": 4
}
