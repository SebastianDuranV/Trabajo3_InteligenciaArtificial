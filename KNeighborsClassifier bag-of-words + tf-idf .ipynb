{
 "cells": [
  {
   "cell_type": "markdown",
   "metadata": {},
   "source": [
    "# KNeighborsClassifier y bag-of-words + tf-idf "
   ]
  },
  {
   "cell_type": "code",
   "execution_count": 24,
   "metadata": {},
   "outputs": [],
   "source": [
    "import pandas as pd\n",
    "import numpy as np\n",
    "import matplotlib as plt\n",
    "df = pd.read_csv('cnnchile_7000.csv')\n",
    "df.head()\n",
    "df = df.drop(['country','media_outlet','url','date'], 1)\n",
    "df1 = pd.DataFrame({'full text':df['title']+\" \"+df['text'],'category':df[\"category\"]})"
   ]
  },
  {
   "cell_type": "code",
   "execution_count": 25,
   "metadata": {},
   "outputs": [],
   "source": [
    "import spacy\n",
    "\n",
    "nlp = spacy.load('es_core_news_sm')\n",
    "\n",
    "from sklearn.feature_extraction.text import CountVectorizer\n",
    "\n",
    "def feature_extraction(text):\n",
    "    \n",
    "    mytokens = nlp(text)\n",
    "\n",
    "    #Guardamos las palabras como características si corresponden a ciertas categorias gramaticales\n",
    "    mytokens = [ word for word in mytokens if word.pos_ in [\"NOUN\", \"ADJ\", \"VERB\"] ]\n",
    "    \n",
    "    #Transformamos las palabras en minusculas\n",
    "    mytokens = [ word.lemma_.lower().strip() for word in mytokens ]\n",
    "    \n",
    "    # return preprocessed list of tokens\n",
    "    return mytokens"
   ]
  },
  {
   "cell_type": "markdown",
   "metadata": {},
   "source": [
    "## bag-of-words + tf-idf\n",
    "\n",
    "- mejorar el modelo bag-of-words tomando en cuenta el nivel pragmático del lenguaje --> *\"Lo que es poco frecuente, es más importante/relevante\"*\n",
    "\n",
    "La desición de usar en todas las pruebas es para darle más importancia a las palabras que se usan en un contexto en especifico, poco frecuentes. Por ejemplo cuando se señale a un país extrangero, o salga el nombre de algun deporte, etc.. pueda guiarse por medios de estas palabras de la decición final."
   ]
  },
  {
   "cell_type": "code",
   "execution_count": 26,
   "metadata": {},
   "outputs": [],
   "source": [
    "from sklearn.feature_extraction.text import TfidfVectorizer\n",
    "tfidf_vector = TfidfVectorizer(tokenizer = feature_extraction, min_df=0., max_df=1.0)"
   ]
  },
  {
   "cell_type": "code",
   "execution_count": 27,
   "metadata": {},
   "outputs": [
    {
     "data": {
      "text/plain": [
       "<7000x24927 sparse matrix of type '<class 'numpy.float64'>'\n",
       "\twith 423003 stored elements in Compressed Sparse Row format>"
      ]
     },
     "execution_count": 27,
     "metadata": {},
     "output_type": "execute_result"
    }
   ],
   "source": [
    "from pandas import DataFrame\n",
    "from sklearn.feature_extraction.text import TfidfVectorizer\n",
    "\n",
    "tfidf_vector.fit_transform(df1[\"full text\"].values.astype('U'))"
   ]
  },
  {
   "cell_type": "code",
   "execution_count": 35,
   "metadata": {},
   "outputs": [],
   "source": [
    "from sklearn.model_selection import train_test_split\n",
    "from sklearn.preprocessing import LabelEncoder\n",
    "\n",
    "X = df1['full text'].astype('U') \n",
    "ylabels = df1['category'].astype('U')\n",
    "lb = LabelEncoder()\n",
    "ylabels_encoded = lb.fit_transform(ylabels)\n",
    "X_train, X_test, y_train, y_test = train_test_split(X, ylabels_encoded, test_size=0.5)"
   ]
  },
  {
   "cell_type": "markdown",
   "metadata": {},
   "source": [
    "## KNeighborsClassifier \n",
    "\n",
    "### n_neighbors \n",
    "#### int, predeterminado = 5\n",
    "- Número de vecinos que se utilizarán de forma predeterminada para las kneighborsconsultas.\n",
    "\n",
    "### pesos {'uniforme', 'distancia'} o invocables, predeterminado = 'uniforme'\n",
    "#### función de peso utilizada en la predicción. Valores posibles:\n",
    "\n",
    "- 'uniforme': pesos uniformes. Todos los puntos de cada vecindario se ponderan por igual.\n",
    "\n",
    "- 'distancia': puntos de peso por la inversa de su distancia. en este caso, los vecinos más cercanos de un punto de consulta tendrán una mayor influencia que los vecinos que están más lejos.\n",
    "\n",
    "- [invocable]: una función definida por el usuario que acepta una matriz de distancias y devuelve una matriz de la misma forma que contiene los pesos.\n",
    "\n",
    "\n",
    "\n",
    "\n",
    "\n",
    "### Algoritmo utilizado para calcular los vecinos más cercanos:\n",
    "#### algoritmo {'auto', 'ball_tree', 'kd_tree', 'brute'}, predeterminado = 'auto'\n",
    "\n",
    "- 'ball_tree' usará BallTree\n",
    "\n",
    "- 'kd_tree' usará KDTree\n",
    "\n",
    "- 'brute' utilizará una búsqueda de fuerza bruta.\n",
    "\n",
    "- 'auto' intentará decidir el algoritmo más apropiado según los valores pasados ​​al fitmétodo.\n",
    "\n",
    "\n",
    "##### BallTree\n",
    "- Los árboles métricos organizan y estructuran los puntos de datos considerando el espacio métrico en el que se ubican los puntos. Usando métricas, los puntos no necesitan ser de dimensión finita o en vectores (Kumar, Zhang & Nayar, 2008). El algoritmo divide los puntos de datos en dos grupos. Cada grupo está rodeado por un círculo (2D) o una esfera (3D). La esfera a menudo se llama hiperesfera.\n",
    "\n",
    "##### KDTree\n",
    "- Los puntos de datos se dividen en cada nodo en dos conjuntos. Al igual que el algoritmo anterior, el árbol KD también es un algoritmo de árbol binario que siempre termina en un máximo de dos nodos. Los criterios divididos elegidos suelen ser la mediana. En el lado derecho de la imagen a continuación, puede ver la posición exacta de los puntos de datos, en el lado izquierdo la posición espacial de los mismos.\n",
    "\n",
    "\n",
    "\n",
    "### n_jobs \n",
    "#### int, predeterminado = Ninguno\n",
    "- El número de trabajos paralelos que se ejecutarán para la búsqueda de vecinos. Nonesignifica 1 a menos que esté en un joblib.parallel_backendcontexto. -1significa usar todos los procesadores. Consulte el glosario para obtener más detalles. No afecta el fitmétodo"
   ]
  },
  {
   "cell_type": "markdown",
   "metadata": {},
   "source": [
    "## Los parametros que se usó:\n",
    "\n",
    "- Para la cantidad de vecinos, se uso 31 porque en el grafico, que esta al ultimo del notebook, que muestra el numero de vecinos se pueden apreciar que llega a un maximo y que ademas de que toma un caracter medio estocastico, en que derrepente es 29, otra veces 27 vecinos, pero siempre ronda establemente entre el 0,735 y 0,74(ejecutando los mismos codigos).\n",
    "- Para los pesos de los vecinos se toma en cuenta la distancia, en que quizas esto, pueda ser que tome muchos prejuicios pero como toma como entrenamiento las mismas noticias este aspecto se ve reducido, por lo que tomar una actitud con noticias que deberían ser objetivas, no sería un problema.\n",
    "- Y por ultimo en el numero de trabajos use el maximo (-1) para ocupar lo que más se pueda de la cpu, (que en mi maquina de 12 subprocesos, ocupa a lo más 4 simultaneamente)."
   ]
  },
  {
   "cell_type": "code",
   "execution_count": 36,
   "metadata": {},
   "outputs": [
    {
     "name": "stdout",
     "output_type": "stream",
     "text": [
      "Accuracy: 0.7397142857142858\n"
     ]
    }
   ],
   "source": [
    "from sklearn import neighbors\n",
    "from sklearn.pipeline import Pipeline\n",
    "\n",
    "n_neighbors = 31\n",
    "\n",
    "knn = neighbors.KNeighborsClassifier(n_neighbors = n_neighbors,\n",
    "                                     weights = 'distance', n_jobs = -1)\n",
    "\n",
    "model_knn = Pipeline([('vectorizing', tfidf_vector),\n",
    "                 ('learning', knn)])\n",
    "\n",
    "# model generation\n",
    "model_knn.fit(X_train, y_train)\n",
    "predicted = model_knn.predict(X_test.astype('U'))\n",
    "predicted_proba = model_knn.predict_proba(X_test.values.astype('U'))\n",
    "print(\"Accuracy:\",model_knn.score(X_test, y_test))"
   ]
  },
  {
   "cell_type": "code",
   "execution_count": 37,
   "metadata": {},
   "outputs": [],
   "source": [
    "from sklearn import metrics\n",
    "\n",
    "predicted = model_knn.predict(X_test.values.astype('U'))\n",
    "predicted_proba = model_knn.predict_proba(X_test.values.astype('U'))"
   ]
  },
  {
   "cell_type": "code",
   "execution_count": 38,
   "metadata": {},
   "outputs": [
    {
     "name": "stdout",
     "output_type": "stream",
     "text": [
      "              precision    recall  f1-score   support\n",
      "\n",
      "           0       0.76      0.91      0.83       502\n",
      "           1       0.81      0.88      0.84       526\n",
      "           2       0.72      0.82      0.77       485\n",
      "           3       0.72      0.69      0.70       480\n",
      "           4       0.67      0.65      0.66       481\n",
      "           5       0.75      0.69      0.72       521\n",
      "           6       0.72      0.53      0.61       505\n",
      "\n",
      "    accuracy                           0.74      3500\n",
      "   macro avg       0.74      0.74      0.73      3500\n",
      "weighted avg       0.74      0.74      0.73      3500\n",
      "\n"
     ]
    }
   ],
   "source": [
    "# Matriz de confusión\n",
    "from sklearn.metrics import confusion_matrix\n",
    "from sklearn.metrics import classification_report\n",
    "\n",
    "confusion_matrix = confusion_matrix(y_test.astype('U'), predicted.astype('U'))\n",
    "print(classification_report(y_test.astype('U'), predicted.astype('U')))"
   ]
  },
  {
   "cell_type": "markdown",
   "metadata": {},
   "source": [
    "- pais == 0 \n",
    "- deportes == 1\n",
    "- tendencias == 2\n",
    "- tecnologias == 3\n",
    "- cultura == 4\n",
    "- economia == 5\n",
    "- mundo == 6"
   ]
  },
  {
   "cell_type": "markdown",
   "metadata": {},
   "source": [
    "###  De la matriz de confución se puede concluir que:\n",
    "\n",
    "- El modelo sabe distigir con mayor exactitud los deportes y los de la categoría pais. \n",
    "- Le cuesta demaciado distingir uno que sea de la categoría del mundo.\n",
    "- Precenta varios falsas noticias de la categoría de país."
   ]
  },
  {
   "cell_type": "code",
   "execution_count": 39,
   "metadata": {},
   "outputs": [
    {
     "data": {
      "text/plain": [
       "(array([0.5, 1.5, 2.5, 3.5, 4.5, 5.5, 6.5]),\n",
       " <a list of 7 Text major ticklabel objects>)"
      ]
     },
     "execution_count": 39,
     "metadata": {},
     "output_type": "execute_result"
    },
    {
     "data": {
      "image/png": "[encoded data removed]",
      "text/plain": [
       "<Figure size 432x288 with 1 Axes>"
      ]
     },
     "metadata": {
      "needs_background": "light"
     },
     "output_type": "display_data"
    }
   ],
   "source": [
    "import matplotlib.pyplot as plt\n",
    "import seaborn as sns\n",
    "import numpy as np\n",
    "\n",
    "classes = np.unique(y_test)\n",
    "\n",
    "cm = metrics.confusion_matrix(y_test, predicted)\n",
    "fig, ax = plt.subplots()\n",
    "sns.heatmap(cm, annot=True, fmt='d', ax=ax, cmap=plt.cm.Blues, \n",
    "            cbar=False)\n",
    "ax.set(xlabel=\"Pred\", ylabel=\"True\", xticklabels=classes, \n",
    "       yticklabels=classes, title=\"Confusion matrix\")\n",
    "plt.yticks(rotation=0)"
   ]
  },
  {
   "cell_type": "code",
   "execution_count": 34,
   "metadata": {
    "scrolled": false
   },
   "outputs": [
    {
     "name": "stdout",
     "output_type": "stream",
     "text": [
      "Numero de vecinos:  20\n",
      "Accuracy: 0.7351428571428571\n",
      "              precision    recall  f1-score   support\n",
      "\n",
      "           0       0.75      0.90      0.82       493\n",
      "           1       0.80      0.86      0.83       503\n",
      "           2       0.74      0.83      0.78       477\n",
      "           3       0.68      0.71      0.69       514\n",
      "           4       0.76      0.60      0.67       496\n",
      "           5       0.73      0.73      0.73       506\n",
      "           6       0.68      0.54      0.60       511\n",
      "\n",
      "    accuracy                           0.74      3500\n",
      "   macro avg       0.74      0.74      0.73      3500\n",
      "weighted avg       0.74      0.74      0.73      3500\n",
      "\n",
      "\n",
      "Numero de vecinos:  21\n",
      "Accuracy: 0.7342857142857143\n",
      "              precision    recall  f1-score   support\n",
      "\n",
      "           0       0.75      0.90      0.82       493\n",
      "           1       0.80      0.86      0.83       503\n",
      "           2       0.74      0.83      0.78       477\n",
      "           3       0.68      0.71      0.69       514\n",
      "           4       0.76      0.60      0.67       496\n",
      "           5       0.73      0.73      0.73       506\n",
      "           6       0.68      0.54      0.60       511\n",
      "\n",
      "    accuracy                           0.74      3500\n",
      "   macro avg       0.74      0.74      0.73      3500\n",
      "weighted avg       0.74      0.74      0.73      3500\n",
      "\n",
      "\n",
      "Numero de vecinos:  22\n",
      "Accuracy: 0.7365714285714285\n",
      "              precision    recall  f1-score   support\n",
      "\n",
      "           0       0.75      0.90      0.82       493\n",
      "           1       0.80      0.86      0.83       503\n",
      "           2       0.74      0.83      0.78       477\n",
      "           3       0.68      0.71      0.69       514\n",
      "           4       0.76      0.60      0.67       496\n",
      "           5       0.73      0.73      0.73       506\n",
      "           6       0.68      0.54      0.60       511\n",
      "\n",
      "    accuracy                           0.74      3500\n",
      "   macro avg       0.74      0.74      0.73      3500\n",
      "weighted avg       0.74      0.74      0.73      3500\n",
      "\n",
      "\n",
      "Numero de vecinos:  23\n",
      "Accuracy: 0.7345714285714285\n",
      "              precision    recall  f1-score   support\n",
      "\n",
      "           0       0.75      0.90      0.82       493\n",
      "           1       0.80      0.86      0.83       503\n",
      "           2       0.74      0.83      0.78       477\n",
      "           3       0.68      0.71      0.69       514\n",
      "           4       0.76      0.60      0.67       496\n",
      "           5       0.73      0.73      0.73       506\n",
      "           6       0.68      0.54      0.60       511\n",
      "\n",
      "    accuracy                           0.74      3500\n",
      "   macro avg       0.74      0.74      0.73      3500\n",
      "weighted avg       0.74      0.74      0.73      3500\n",
      "\n",
      "\n",
      "Numero de vecinos:  24\n",
      "Accuracy: 0.7345714285714285\n",
      "              precision    recall  f1-score   support\n",
      "\n",
      "           0       0.75      0.90      0.82       493\n",
      "           1       0.80      0.86      0.83       503\n",
      "           2       0.74      0.83      0.78       477\n",
      "           3       0.68      0.71      0.69       514\n",
      "           4       0.76      0.60      0.67       496\n",
      "           5       0.73      0.73      0.73       506\n",
      "           6       0.68      0.54      0.60       511\n",
      "\n",
      "    accuracy                           0.74      3500\n",
      "   macro avg       0.74      0.74      0.73      3500\n",
      "weighted avg       0.74      0.74      0.73      3500\n",
      "\n",
      "\n",
      "Numero de vecinos:  25\n",
      "Accuracy: 0.7351428571428571\n",
      "              precision    recall  f1-score   support\n",
      "\n",
      "           0       0.75      0.90      0.82       493\n",
      "           1       0.80      0.86      0.83       503\n",
      "           2       0.74      0.83      0.78       477\n",
      "           3       0.68      0.71      0.69       514\n",
      "           4       0.76      0.60      0.67       496\n",
      "           5       0.73      0.73      0.73       506\n",
      "           6       0.68      0.54      0.60       511\n",
      "\n",
      "    accuracy                           0.74      3500\n",
      "   macro avg       0.74      0.74      0.73      3500\n",
      "weighted avg       0.74      0.74      0.73      3500\n",
      "\n",
      "\n",
      "Numero de vecinos:  26\n",
      "Accuracy: 0.7382857142857143\n",
      "              precision    recall  f1-score   support\n",
      "\n",
      "           0       0.75      0.90      0.82       493\n",
      "           1       0.80      0.86      0.83       503\n",
      "           2       0.74      0.83      0.78       477\n",
      "           3       0.68      0.71      0.69       514\n",
      "           4       0.76      0.60      0.67       496\n",
      "           5       0.73      0.73      0.73       506\n",
      "           6       0.68      0.54      0.60       511\n",
      "\n",
      "    accuracy                           0.74      3500\n",
      "   macro avg       0.74      0.74      0.73      3500\n",
      "weighted avg       0.74      0.74      0.73      3500\n",
      "\n",
      "\n",
      "Numero de vecinos:  27\n",
      "Accuracy: 0.738\n",
      "              precision    recall  f1-score   support\n",
      "\n",
      "           0       0.75      0.90      0.82       493\n",
      "           1       0.80      0.86      0.83       503\n",
      "           2       0.74      0.83      0.78       477\n",
      "           3       0.68      0.71      0.69       514\n",
      "           4       0.76      0.60      0.67       496\n",
      "           5       0.73      0.73      0.73       506\n",
      "           6       0.68      0.54      0.60       511\n",
      "\n",
      "    accuracy                           0.74      3500\n",
      "   macro avg       0.74      0.74      0.73      3500\n",
      "weighted avg       0.74      0.74      0.73      3500\n",
      "\n",
      "\n",
      "Numero de vecinos:  28\n",
      "Accuracy: 0.7368571428571429\n",
      "              precision    recall  f1-score   support\n",
      "\n",
      "           0       0.75      0.90      0.82       493\n",
      "           1       0.80      0.86      0.83       503\n",
      "           2       0.74      0.83      0.78       477\n",
      "           3       0.68      0.71      0.69       514\n",
      "           4       0.76      0.60      0.67       496\n",
      "           5       0.73      0.73      0.73       506\n",
      "           6       0.68      0.54      0.60       511\n",
      "\n",
      "    accuracy                           0.74      3500\n",
      "   macro avg       0.74      0.74      0.73      3500\n",
      "weighted avg       0.74      0.74      0.73      3500\n",
      "\n",
      "\n",
      "Numero de vecinos:  29\n",
      "Accuracy: 0.7394285714285714\n",
      "              precision    recall  f1-score   support\n",
      "\n",
      "           0       0.75      0.90      0.82       493\n",
      "           1       0.80      0.86      0.83       503\n",
      "           2       0.74      0.83      0.78       477\n",
      "           3       0.68      0.71      0.69       514\n",
      "           4       0.76      0.60      0.67       496\n",
      "           5       0.73      0.73      0.73       506\n",
      "           6       0.68      0.54      0.60       511\n",
      "\n",
      "    accuracy                           0.74      3500\n",
      "   macro avg       0.74      0.74      0.73      3500\n",
      "weighted avg       0.74      0.74      0.73      3500\n",
      "\n",
      "\n",
      "Numero de vecinos:  30\n",
      "Accuracy: 0.7391428571428571\n",
      "              precision    recall  f1-score   support\n",
      "\n",
      "           0       0.75      0.90      0.82       493\n",
      "           1       0.80      0.86      0.83       503\n",
      "           2       0.74      0.83      0.78       477\n",
      "           3       0.68      0.71      0.69       514\n",
      "           4       0.76      0.60      0.67       496\n",
      "           5       0.73      0.73      0.73       506\n",
      "           6       0.68      0.54      0.60       511\n",
      "\n",
      "    accuracy                           0.74      3500\n",
      "   macro avg       0.74      0.74      0.73      3500\n",
      "weighted avg       0.74      0.74      0.73      3500\n",
      "\n",
      "\n",
      "Numero de vecinos:  31\n",
      "Accuracy: 0.7428571428571429\n",
      "              precision    recall  f1-score   support\n",
      "\n",
      "           0       0.75      0.90      0.82       493\n",
      "           1       0.80      0.86      0.83       503\n",
      "           2       0.74      0.83      0.78       477\n",
      "           3       0.68      0.71      0.69       514\n",
      "           4       0.76      0.60      0.67       496\n",
      "           5       0.73      0.73      0.73       506\n",
      "           6       0.68      0.54      0.60       511\n",
      "\n",
      "    accuracy                           0.74      3500\n",
      "   macro avg       0.74      0.74      0.73      3500\n",
      "weighted avg       0.74      0.74      0.73      3500\n",
      "\n",
      "\n",
      "Numero de vecinos:  32\n",
      "Accuracy: 0.7397142857142858\n",
      "              precision    recall  f1-score   support\n",
      "\n",
      "           0       0.75      0.90      0.82       493\n",
      "           1       0.80      0.86      0.83       503\n",
      "           2       0.74      0.83      0.78       477\n",
      "           3       0.68      0.71      0.69       514\n",
      "           4       0.76      0.60      0.67       496\n",
      "           5       0.73      0.73      0.73       506\n",
      "           6       0.68      0.54      0.60       511\n",
      "\n",
      "    accuracy                           0.74      3500\n",
      "   macro avg       0.74      0.74      0.73      3500\n",
      "weighted avg       0.74      0.74      0.73      3500\n",
      "\n",
      "\n"
     ]
    },
    {
     "name": "stdout",
     "output_type": "stream",
     "text": [
      "Numero de vecinos:  33\n",
      "Accuracy: 0.7388571428571429\n",
      "              precision    recall  f1-score   support\n",
      "\n",
      "           0       0.75      0.90      0.82       493\n",
      "           1       0.80      0.86      0.83       503\n",
      "           2       0.74      0.83      0.78       477\n",
      "           3       0.68      0.71      0.69       514\n",
      "           4       0.76      0.60      0.67       496\n",
      "           5       0.73      0.73      0.73       506\n",
      "           6       0.68      0.54      0.60       511\n",
      "\n",
      "    accuracy                           0.74      3500\n",
      "   macro avg       0.74      0.74      0.73      3500\n",
      "weighted avg       0.74      0.74      0.73      3500\n",
      "\n",
      "\n",
      "Numero de vecinos:  34\n",
      "Accuracy: 0.7394285714285714\n",
      "              precision    recall  f1-score   support\n",
      "\n",
      "           0       0.75      0.90      0.82       493\n",
      "           1       0.80      0.86      0.83       503\n",
      "           2       0.74      0.83      0.78       477\n",
      "           3       0.68      0.71      0.69       514\n",
      "           4       0.76      0.60      0.67       496\n",
      "           5       0.73      0.73      0.73       506\n",
      "           6       0.68      0.54      0.60       511\n",
      "\n",
      "    accuracy                           0.74      3500\n",
      "   macro avg       0.74      0.74      0.73      3500\n",
      "weighted avg       0.74      0.74      0.73      3500\n",
      "\n",
      "\n"
     ]
    },
    {
     "data": {
      "text/plain": [
       "([<matplotlib.axis.XTick at 0x2d90e47b220>,\n",
       "  <matplotlib.axis.XTick at 0x2d90e47b100>,\n",
       "  <matplotlib.axis.XTick at 0x2d91ab0a580>,\n",
       "  <matplotlib.axis.XTick at 0x2d90e3641f0>,\n",
       "  <matplotlib.axis.XTick at 0x2d90e364730>],\n",
       " <a list of 5 Text major ticklabel objects>)"
      ]
     },
     "execution_count": 34,
     "metadata": {},
     "output_type": "execute_result"
    },
    {
     "data": {
      "image/png": "[encoded data removed]",
      "text/plain": [
       "<Figure size 432x288 with 1 Axes>"
      ]
     },
     "metadata": {
      "needs_background": "light"
     },
     "output_type": "display_data"
    }
   ],
   "source": [
    "k_range = range(20, 35)\n",
    "scores = []\n",
    "\n",
    "from progress.bar import Bar, ChargingBar\n",
    "import os, time, random\n",
    "\n",
    "\n",
    "for k in k_range:\n",
    "    knn = neighbors.KNeighborsClassifier(n_neighbors = k,\n",
    "                                     weights = 'distance', n_jobs = -1)\n",
    "    \n",
    "    model_knn = Pipeline([('vectorizing', tfidf_vector),\n",
    "                 ('learning', knn)])\n",
    "    \n",
    "    model_knn.fit(X_train, y_train)\n",
    "    scores.append(model_knn.score(X_test, y_test))\n",
    "    print(\"Numero de vecinos: \", k)\n",
    "    print(\"Accuracy:\",model_knn.score(X_test, y_test))\n",
    "    \n",
    "    from sklearn.metrics import confusion_matrix\n",
    "    from sklearn.metrics import classification_report\n",
    "\n",
    "    confusion_matrix = confusion_matrix(y_test.astype('U'), predicted.astype('U'))\n",
    "    print(classification_report(y_test.astype('U'), predicted.astype('U')))\n",
    "    print()\n",
    "\n",
    "plt.figure()\n",
    "plt.xlabel('k')\n",
    "plt.ylabel('accuracy')\n",
    "plt.scatter(k_range, scores)\n",
    "plt.xticks([0,5,10,15,20])"
   ]
  },
  {
   "cell_type": "markdown",
   "metadata": {},
   "source": [
    "## Conclusiones generales (esto estara en cada notebook):\n",
    "- El modelo al precentarle una tanto noticas de tipo deportes, este por medio del f1-score, es más fiable ya que el tipo de palabras que se usan en deportes, están más en la vecindad el tipo de palabras que usa.\n",
    "- En el caso de  pais tiene una exhaustividad muy alta por lo que si ve una noticia que es de la categoría país sera verdadero, pero tiene menor precisión en que precice muchas falsas noticias de otras categorías, ya que en esta categoria comparte muchas palabras de otras categorías como de tecnologicas, economia y mundo. Por la razon que si bien las noticias son muy parecidas, y que el factor diferenciador sería el nombre de los lugares, o que se habla del pais pero no necesariamente se deba incluir en esta categoría.\n",
    "- El modelo que tiene un peor rango es del mundo ya que es el que en tematicos(sin considerar los lugares), puede como se dijo en el punto anterior, es el que mas comparte tematicas y palabras con el restro.\n",
    "- El mejor accuary es el que usa el multinomialNB, teniendo la mayor precición, de los modelos.\n",
    "- Siendo el factor más de prejuicio jugando al favor del modelo, ya que este va mejorando las probabilidades que con ciertas caracteristicas de las noticias.\n",
    "- Y el peor modelo que es el k vecinos, debido a que no es muy sencible, al identificar aspectos escenciales que definen la categoria de una noticia."
   ]
  },
  {
   "cell_type": "code",
   "execution_count": null,
   "metadata": {},
   "outputs": [],
   "source": []
  }
 ],
 "metadata": {
  "kernelspec": {
   "display_name": "Python 3",
   "language": "python",
   "name": "python3"
  },
  "language_info": {
   "codemirror_mode": {
    "name": "ipython",
    "version": 3
   },
   "file_extension": ".py",
   "mimetype": "text/x-python",
   "name": "python",
   "nbconvert_exporter": "python",
   "pygments_lexer": "ipython3",
   "version": "3.8.3"
  }
 },
 "nbformat": 4,
 "nbformat_minor": 4
}
