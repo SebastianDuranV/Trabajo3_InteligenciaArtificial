{
 "cells": [
  {
   "cell_type": "markdown",
   "metadata": {},
   "source": [
    "# MultinomialNB bag-of-words + tf-idf"
   ]
  },
  {
   "cell_type": "code",
   "execution_count": 13,
   "metadata": {},
   "outputs": [],
   "source": [
    "import pandas as pd\n",
    "import numpy as np\n",
    "import matplotlib as plt\n",
    "df = pd.read_csv('cnnchile_7000.csv')\n",
    "df.head()\n",
    "df = df.drop(['country','media_outlet','url','date'], 1)\n",
    "df1 = pd.DataFrame({'full text':df['title']+\" \"+df['text'],'category':df[\"category\"]})"
   ]
  },
  {
   "cell_type": "code",
   "execution_count": 14,
   "metadata": {},
   "outputs": [],
   "source": [
    "import spacy\n",
    "\n",
    "nlp = spacy.load('es_core_news_sm')\n",
    "\n",
    "from sklearn.feature_extraction.text import CountVectorizer\n",
    "\n",
    "def feature_extraction(text):\n",
    "    \n",
    "    mytokens = nlp(text)\n",
    "\n",
    "    #Guardamos las palabras como características si corresponden a ciertas categorias gramaticales\n",
    "    mytokens = [ word for word in mytokens if word.pos_ in [\"NOUN\", \"ADJ\", \"VERB\"] ]\n",
    "    \n",
    "    #Transformamos las palabras en minusculas\n",
    "    mytokens = [ word.lemma_.lower().strip() for word in mytokens ]\n",
    "    \n",
    "    # return preprocessed list of tokens\n",
    "    return mytokens"
   ]
  },
  {
   "cell_type": "markdown",
   "metadata": {},
   "source": [
    "## bag-of-words + tf-idf"
   ]
  },
  {
   "cell_type": "code",
   "execution_count": 15,
   "metadata": {},
   "outputs": [],
   "source": [
    "bow_vector = CountVectorizer(tokenizer = feature_extraction, min_df=0., max_df=1.0)"
   ]
  },
  {
   "cell_type": "code",
   "execution_count": 16,
   "metadata": {},
   "outputs": [
    {
     "data": {
      "text/plain": [
       "<300x4317 sparse matrix of type '<class 'numpy.int64'>'\n",
       "\twith 17639 stored elements in Compressed Sparse Row format>"
      ]
     },
     "execution_count": 16,
     "metadata": {},
     "output_type": "execute_result"
    }
   ],
   "source": [
    "from pandas import DataFrame\n",
    "from sklearn.feature_extraction.text import TfidfVectorizer\n",
    "\n",
    "bow_vector.fit_transform(df1[\"full text\"][0:300].values.astype('U'))"
   ]
  },
  {
   "cell_type": "code",
   "execution_count": 17,
   "metadata": {},
   "outputs": [],
   "source": [
    "from sklearn.model_selection import train_test_split\n",
    "from sklearn.preprocessing import LabelEncoder\n",
    "\n",
    "X = df1['full text'].astype('U') \n",
    "ylabels = df1['category'].astype('U')\n",
    "lb = LabelEncoder()\n",
    "ylabels_encoded = lb.fit_transform(ylabels)\n",
    "X_train, X_test, y_train, y_test = train_test_split(X, ylabels_encoded, test_size=0.5)"
   ]
  },
  {
   "cell_type": "markdown",
   "metadata": {},
   "source": [
    "## MultinomialNB\n",
    "\n",
    "### alpha float, predeterminado = 1.0\n",
    "- Parámetro de suavizado aditivo (Laplace / Lidstone) (0 para sin suavizado).\n",
    "\n",
    "### fit_prior bool, predeterminado = Verdadero\n",
    "- Ya sea para aprender las probabilidades previas de la clase o no. Si es falso, se usará un uniforme previo.\n",
    "\n",
    "### class_prior tipo matriz de forma (n_classes,), predeterminado = Ninguno\n",
    "- Probabilidades previas de las clases. Si se especifica, los antecedentes no se ajustan de acuerdo con los datos."
   ]
  },
  {
   "cell_type": "code",
   "execution_count": 18,
   "metadata": {},
   "outputs": [
    {
     "data": {
      "text/plain": [
       "Pipeline(steps=[('vectorizing',\n",
       "                 CountVectorizer(min_df=0.0,\n",
       "                                 tokenizer=<function feature_extraction at 0x00000211A4AB5F70>)),\n",
       "                ('learning', MultinomialNB())])"
      ]
     },
     "execution_count": 18,
     "metadata": {},
     "output_type": "execute_result"
    }
   ],
   "source": [
    "from sklearn.pipeline import Pipeline\n",
    "#from sklearn.linear_model import LogisticRegression\n",
    "from sklearn.naive_bayes import MultinomialNB\n",
    "\n",
    "nb = MultinomialNB()\n",
    "model_nb = Pipeline([('vectorizing', bow_vector),\n",
    "                 ('learning', nb)])\n",
    "# model generation\n",
    "model_nb.fit(X_train.astype('U'), y_train.astype('U'))"
   ]
  },
  {
   "cell_type": "code",
   "execution_count": 19,
   "metadata": {},
   "outputs": [],
   "source": [
    "from sklearn import metrics\n",
    "\n",
    "predicted = model_nb.predict(X_test.values.astype('U'))\n",
    "predicted_proba = model_nb.predict_proba(X_test.values.astype('U'))"
   ]
  },
  {
   "cell_type": "code",
   "execution_count": 23,
   "metadata": {},
   "outputs": [
    {
     "name": "stdout",
     "output_type": "stream",
     "text": [
      "Accuracy: 0.7714285714285715\n"
     ]
    }
   ],
   "source": [
    "print(\"Accuracy:\",metrics.accuracy_score(y_test.astype('U'), predicted))"
   ]
  },
  {
   "cell_type": "code",
   "execution_count": 21,
   "metadata": {},
   "outputs": [
    {
     "name": "stdout",
     "output_type": "stream",
     "text": [
      "              precision    recall  f1-score   support\n",
      "\n",
      "           0       0.74      0.92      0.82       505\n",
      "           1       0.92      0.87      0.89       488\n",
      "           2       0.79      0.89      0.83       499\n",
      "           3       0.76      0.77      0.77       504\n",
      "           4       0.78      0.72      0.75       511\n",
      "           5       0.71      0.72      0.72       496\n",
      "           6       0.70      0.51      0.59       497\n",
      "\n",
      "    accuracy                           0.77      3500\n",
      "   macro avg       0.77      0.77      0.77      3500\n",
      "weighted avg       0.77      0.77      0.77      3500\n",
      "\n"
     ]
    }
   ],
   "source": [
    "# Matriz de confusión\n",
    "from sklearn.metrics import confusion_matrix\n",
    "from sklearn.metrics import classification_report\n",
    "\n",
    "confusion_matrix = confusion_matrix(y_test.astype('U'), predicted)\n",
    "print(classification_report(y_test.astype('U'), predicted))"
   ]
  },
  {
   "cell_type": "code",
   "execution_count": 22,
   "metadata": {},
   "outputs": [
    {
     "data": {
      "text/plain": [
       "(array([0.5, 1.5, 2.5, 3.5, 4.5, 5.5, 6.5]),\n",
       " <a list of 7 Text major ticklabel objects>)"
      ]
     },
     "execution_count": 22,
     "metadata": {},
     "output_type": "execute_result"
    },
    {
     "data": {
      "image/png": "[encoded data removed]",
      "text/plain": [
       "<Figure size 432x288 with 1 Axes>"
      ]
     },
     "metadata": {
      "needs_background": "light"
     },
     "output_type": "display_data"
    }
   ],
   "source": [
    "import matplotlib.pyplot as plt\n",
    "import seaborn as sns\n",
    "import numpy as np\n",
    "\n",
    "classes = np.unique(y_test)\n",
    "\n",
    "cm = metrics.confusion_matrix(y_test.astype('U'), predicted)\n",
    "fig, ax = plt.subplots()\n",
    "sns.heatmap(cm, annot=True, fmt='d', ax=ax, cmap=plt.cm.Blues, \n",
    "            cbar=False)\n",
    "ax.set(xlabel=\"Pred\", ylabel=\"True\", xticklabels=classes, \n",
    "       yticklabels=classes, title=\"Confusion matrix\")\n",
    "plt.yticks(rotation=0)"
   ]
  },
  {
   "cell_type": "code",
   "execution_count": null,
   "metadata": {},
   "outputs": [],
   "source": []
  }
 ],
 "metadata": {
  "kernelspec": {
   "display_name": "Python 3",
   "language": "python",
   "name": "python3"
  },
  "language_info": {
   "codemirror_mode": {
    "name": "ipython",
    "version": 3
   },
   "file_extension": ".py",
   "mimetype": "text/x-python",
   "name": "python",
   "nbconvert_exporter": "python",
   "pygments_lexer": "ipython3",
   "version": "3.8.3"
  }
 },
 "nbformat": 4,
 "nbformat_minor": 4
}
